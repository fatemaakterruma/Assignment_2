{
 "cells": [
  {
   "cell_type": "markdown",
   "metadata": {},
   "source": [
    "# Question-1: Write a function called rectangle that takes two integers m and n as arguments and prints out an m × n box consisting of asterisks."
   ]
  },
  {
   "cell_type": "code",
   "execution_count": 1,
   "metadata": {},
   "outputs": [
    {
     "name": "stdout",
     "output_type": "stream",
     "text": [
      "Enter Rectangle Height: 3\n",
      "Enter Rectangle Width: 4\n",
      "Output Rectangle \n",
      "* * * * \n",
      "* * * * \n",
      "* * * * \n"
     ]
    }
   ],
   "source": [
    "def rectangle(m,n):\n",
    "    for i in range(m):\n",
    "        for j in range(n):\n",
    "            print(end='* ')\n",
    "        print()\n",
    "rectangle_height=int(input('Enter Rectangle Height: '))\n",
    "rectangle_weight=int(input('Enter Rectangle Width: '))\n",
    "print('Output Rectangle ')\n",
    "rectangle(rectangle_height,rectangle_weight)\n"
   ]
  },
  {
   "cell_type": "markdown",
   "metadata": {},
   "source": [
    "# Question-2: Write a function called add_excitement that takes a list of strings and adds an exclamation point ( ! ) to the end of each string in the list. The program should modify the original list and not return anything."
   ]
  },
  {
   "cell_type": "code",
   "execution_count": 2,
   "metadata": {},
   "outputs": [
    {
     "name": "stdout",
     "output_type": "stream",
     "text": [
      "How many lines do you want?3\n",
      "Enter your TEXT:Hello\n",
      "Enter your TEXT:Fatema Akter Ruma\n",
      "Enter your TEXT:How are you\n",
      "['Hello!', 'Fatema Akter Ruma!', 'How are you!']\n"
     ]
    }
   ],
   "source": [
    "def add_excitment(old_list):\n",
    "    i=0\n",
    "    while i<len(old_list):\n",
    "        old_list[i]=old_list[i]+'!'\n",
    "        i=i+1\n",
    "string_lines=input('How many lines do you want?')\n",
    "string_lines=int(string_lines)\n",
    "new_list=['s'] * string_lines\n",
    "j=0\n",
    "while j<len(new_list):\n",
    "    new_list[j]=input('Enter your TEXT:')\n",
    "    j=j+1\n",
    "add_excitment(new_list)\n",
    "print(new_list)\n"
   ]
  },
  {
   "cell_type": "markdown",
   "metadata": {},
   "source": [
    "# Question-3: Write the same function except that it should not modify the original list and should instead return a new list.¶"
   ]
  },
  {
   "cell_type": "code",
   "execution_count": 3,
   "metadata": {},
   "outputs": [
    {
     "name": "stdout",
     "output_type": "stream",
     "text": [
      "How many lines do you want?2\n",
      "Enter your speech:I am a student from CSE Dept\n",
      "Enter your speech:ULAB\n",
      "Before call\n",
      "Input List : ['I am a student from CSE Dept', 'ULAB']\n",
      "After Call \n",
      "New List:  ['I am a student from CSE Dept!', 'ULAB!']\n"
     ]
    }
   ],
   "source": [
    "def add_excitment(old_list):\n",
    "    new_list=[]\n",
    "    i=0\n",
    "    while i<len(old_list):\n",
    "        new_list.insert(i,old_list[i]+'!')\n",
    "        i=i+1\n",
    "    return new_list\n",
    "string_lines=input('How many lines do you want?')\n",
    "string_lines=int(string_lines)\n",
    "list=['s'] * string_lines\n",
    "j=0\n",
    "while j<len(list):\n",
    "    list[j]=input('Enter your speech:')\n",
    "    j=j+1\n",
    "print('Before call\\nInput List :',list)\n",
    "result_list=add_excitment(list)\n",
    "print('After Call ')\n",
    "print('New List: ',result_list)"
   ]
  },
  {
   "cell_type": "markdown",
   "metadata": {},
   "source": [
    "# Question-4: The digital root of a number n is obtained as follows: Add up the digits n to get a new number. Add up the digits of that to get another new number. Keep doing this until you get a number that has only one digit. That number is the digital root. For example, if n = 45893 , we add up the digits to get 4 + 5 + 8 + 9 + 3 = 29 . We then add up the digits of 29 to get 2 + 9 = 11 . We then add up the digits of 11 to get 1 + 1 = 2 . Since 2 has only one digit, 2 is our digital root. Write a function that returns the digital root of an integer n . [Note: there is a shortcut, where the digital root is equal to n mod 9, but do not use that here.]"
   ]
  },
  {
   "cell_type": "code",
   "execution_count": 4,
   "metadata": {},
   "outputs": [
    {
     "name": "stdout",
     "output_type": "stream",
     "text": [
      "Enter a Number10\n",
      "Digital Root of 10 is 1\n"
     ]
    }
   ],
   "source": [
    "def Summation(n):\n",
    "    sum=0\n",
    "    for i in n:\n",
    "        sum=sum+int(i)\n",
    "    return sum\n",
    "def digital_root(num):\n",
    "    x=Summation(num)\n",
    "    while x>9:\n",
    "        y=str(x)\n",
    "        x=Summation(y)\n",
    "    return x\n",
    "m=input('Enter a Number')\n",
    "number=digital_root(m)\n",
    "print('Digital Root of',m,'is',number)"
   ]
  },
  {
   "cell_type": "markdown",
   "metadata": {},
   "source": [
    "# Question-5: Write a function that takes an integer n and returns a random integer with exactly n digits. For instance, if n is 3, then 125 and 593 would be valid return values, but 093 would not because that is really 93, which is a two-digit number.¶"
   ]
  },
  {
   "cell_type": "code",
   "execution_count": 6,
   "metadata": {},
   "outputs": [
    {
     "name": "stdout",
     "output_type": "stream",
     "text": [
      "Enter A Number: 5\n",
      "The Random Value of 5 digit is : 89751\n"
     ]
    }
   ],
   "source": [
    "def Random_integer(num):\n",
    "    x=int(num)   \n",
    "    i=1\n",
    "    low='1'\n",
    "    while i<x:\n",
    "        low=low+'0'\n",
    "        i=i+1\n",
    "        \n",
    "    high=low+'0'\n",
    "    low=int(low)\n",
    "    high=int(high)-1\n",
    "    \n",
    "    import random\n",
    "    z=random.randint(low,high)\n",
    "    return z\n",
    "\n",
    "number=input('Enter A Number: ')\n",
    "value=Random_integer(number)\n",
    "print('The Random Value of',number,'digit is :',value)\n"
   ]
  },
  {
   "cell_type": "markdown",
   "metadata": {},
   "source": [
    "# Question-6: Write a function called matches that takes two strings as arguments and returns how many matches there are between the strings. A match is where the two strings have the same character at the same index. For instance, ' python ' and ' path ' match in the first, third, and fourth characters, so the function should return 3."
   ]
  },
  {
   "cell_type": "code",
   "execution_count": 7,
   "metadata": {},
   "outputs": [
    {
     "name": "stdout",
     "output_type": "stream",
     "text": [
      "Enter a word:polish\n",
      "Enter another word:police\n",
      "the words have 4 matches\n"
     ]
    }
   ],
   "source": [
    "def matches(string_1,string_2):\n",
    "    number_1=len(string_1)\n",
    "    number_2=len(string_2)\n",
    "    result=0\n",
    "    i=0\n",
    "    if(number_1<number_2):\n",
    "        while(i<number_1):\n",
    "            if(string_1[i]==string_2[i]):\n",
    "                result=result+1\n",
    "            i=i+1\n",
    "    else:\n",
    "        while(i<number_2):\n",
    "            if(string_1[i]==string_2[i]):\n",
    "                result=result+1\n",
    "            i=i+1\n",
    "    return result\n",
    "word_1=input(\"Enter a word:\")\n",
    "word_2=input('Enter another word:')\n",
    "count=matches(word_1,word_2)\n",
    "print('the words have',count,'matches')\n"
   ]
  },
  {
   "cell_type": "markdown",
   "metadata": {},
   "source": [
    "# Question-7: Write a function called primes that is given a number n and returns a list of the first n primes. Let the default value of n be 100."
   ]
  },
  {
   "cell_type": "code",
   "execution_count": 9,
   "metadata": {},
   "outputs": [
    {
     "name": "stdout",
     "output_type": "stream",
     "text": [
      "Enter a Number:100\n",
      "Prime Numbers upto 100 \n",
      " [2, 3, 5, 7, 11, 13, 17, 19, 23, 29, 31, 37, 41, 43, 47, 53, 59, 61, 67, 71, 73, 79, 83, 89, 97]\n"
     ]
    }
   ],
   "source": [
    "def primes(n):\n",
    "    index=0\n",
    "    list=[]\n",
    "    i=2\n",
    "    while i<=n:\n",
    "        is_prime=True\n",
    "        j=2\n",
    "        while is_prime==True and j<i:\n",
    "            if i%j==0:\n",
    "                is_prime=False\n",
    "            j=j+1\n",
    "        if is_prime==True:\n",
    "            list.insert(index,i)\n",
    "            index=index+1\n",
    "        i=i+1\n",
    "    return list\n",
    "number=int(input('Enter a Number:'))\n",
    "prime_list=primes(number)\n",
    "print('Prime Numbers upto',number,'\\n',prime_list)"
   ]
  },
  {
   "cell_type": "markdown",
   "metadata": {},
   "source": [
    "# Question-8: Recall that if s is a string, then s.find( ' a ' ) will find the location of the first a in s . The problem is that it does not find the location of every a. Write a function called findall that given a string and a single character, returns a list containing all of the locations of that character in the string. It should return an empty list if there are no occurrences of the character in the string."
   ]
  },
  {
   "cell_type": "code",
   "execution_count": 10,
   "metadata": {},
   "outputs": [
    {
     "name": "stdout",
     "output_type": "stream",
     "text": [
      "Enter a String: character\n",
      "Enter a Character: a\n",
      "The position's of character a in the string\n",
      " [2, 4]\n"
     ]
    }
   ],
   "source": [
    "def findall(string,character):\n",
    "    list=[]\n",
    "    index=0\n",
    "    j=0\n",
    "    for c in string:\n",
    "        if c==character:\n",
    "            list.insert(index,j)\n",
    "            index=index+1\n",
    "        j=j+1\n",
    "    return list\n",
    "my_str=input('Enter a String: ')\n",
    "my_char=input('Enter a Character: ')\n",
    "result_list=findall(my_str,my_char)\n",
    "print(\"The position's of character\",my_char,'in the string\\n',result_list)"
   ]
  },
  {
   "cell_type": "code",
   "execution_count": null,
   "metadata": {},
   "outputs": [],
   "source": []
  }
 ],
 "metadata": {
  "kernelspec": {
   "display_name": "Python 3",
   "language": "python",
   "name": "python3"
  },
  "language_info": {
   "codemirror_mode": {
    "name": "ipython",
    "version": 3
   },
   "file_extension": ".py",
   "mimetype": "text/x-python",
   "name": "python",
   "nbconvert_exporter": "python",
   "pygments_lexer": "ipython3",
   "version": "3.7.1"
  }
 },
 "nbformat": 4,
 "nbformat_minor": 2
}
